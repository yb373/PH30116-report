{
 "cells": [
  {
   "cell_type": "markdown",
   "metadata": {},
   "source": [
    "# Aperture photometry"
   ]
  },
  {
   "cell_type": "markdown",
   "metadata": {},
   "source": [
    "### This Notebook will lead you through exercises to explore signal-to-noise in imaging data. In this notebook, you will:\n",
    "\n",
    "$\\bullet$ learn how to perform aperture photomotry and sky subtraction\n",
    "\n",
    "$\\bullet$ learn how to choose appropriate source aperture and sky aperture sizes\n",
    "\n",
    "$\\bullet$ learn how to calculate errors for your photometry\n",
    "\n",
    "$\\bullet$ look into the difference between source and sky noise\n",
    "\n",
    "$\\bullet$ test your aperture photometry functions on simulated datasets\n",
    "\n",
    "### If you have time and want to take go further with your analysis:\n",
    "\n",
    "$\\bullet$ test your aperture photometry functions on difficult datasets, such as crowded fields and noisy datasets\n",
    "\n",
    "### What's next:\n",
    "after you have completed this notebook:\n",
    "\n",
    "$\\bullet$ move on to the lightcurve simulator exercise\n",
    "\n",
    "$\\bullet$ make sure to make notes on what issues covered here you need to consider when preparing your observations plan\n",
    "\n",
    "### Additional resources\n",
    "\n",
    "\"Handbook of CCD Astronomy\" by Steve B. Howell available in the class."
   ]
  },
  {
   "cell_type": "code",
   "execution_count": 1,
   "metadata": {},
   "outputs": [
    {
     "ename": "ModuleNotFoundError",
     "evalue": "No module named 'photutils'",
     "output_type": "error",
     "traceback": [
      "\u001b[0;31m---------------------------------------------------------------------------\u001b[0m",
      "\u001b[0;31mModuleNotFoundError\u001b[0m                       Traceback (most recent call last)",
      "\u001b[0;32m<ipython-input-1-1c6340067884>\u001b[0m in \u001b[0;36m<module>\u001b[0;34m\u001b[0m\n\u001b[1;32m      5\u001b[0m \u001b[0;31m#Photutils is the model we will use for aperture photometry.\u001b[0m\u001b[0;34m\u001b[0m\u001b[0;34m\u001b[0m\u001b[0;34m\u001b[0m\u001b[0m\n\u001b[1;32m      6\u001b[0m \u001b[0;31m#The documentation is available here: https://photutils.readthedocs.io/en/stable/index.html\u001b[0m\u001b[0;34m\u001b[0m\u001b[0;34m\u001b[0m\u001b[0;34m\u001b[0m\u001b[0m\n\u001b[0;32m----> 7\u001b[0;31m \u001b[0;32mfrom\u001b[0m \u001b[0mphotutils\u001b[0m \u001b[0;32mimport\u001b[0m \u001b[0maperture_photometry\u001b[0m\u001b[0;34m\u001b[0m\u001b[0;34m\u001b[0m\u001b[0m\n\u001b[0m\u001b[1;32m      8\u001b[0m \u001b[0;32mimport\u001b[0m \u001b[0mphotutils\u001b[0m\u001b[0;34m\u001b[0m\u001b[0;34m\u001b[0m\u001b[0m\n",
      "\u001b[0;31mModuleNotFoundError\u001b[0m: No module named 'photutils'"
     ]
    }
   ],
   "source": [
    "### Necessary imports fore this notebooks.\n",
    "# ImageSimulator is a supplemtary set of code used to simulate the test images used \n",
    "import ImageSimulator\n",
    "import numpy as np \n",
    "#Photutils is the model we will use for aperture photometry.\n",
    "#The documentation is available here: https://photutils.readthedocs.io/en/stable/index.html\n",
    "from photutils import aperture_photometry\n",
    "import photutils"
   ]
  },
  {
   "cell_type": "markdown",
   "metadata": {},
   "source": [
    "## Background - Photometry in Astronomy\n",
    "\n",
    "For your research project, you will be working with photometry data. This refers to measuring the flux or magnitude of a source in an image. In your project, you will be working with point sources (that means sources that are unresolved at the resolution of the image).\n",
    "\n",
    "#### Photometry in astronomy is used to:\n",
    "\n",
    "$\\bullet$ measure the flux of a source in a specific band, which can be used to determine the luminosity of a source\n",
    "\n",
    "$\\bullet$ contruct a so-called spectral energy distribution that measures the flux from a source as a function of wavelength or frequency. This can be used to determine intrinsic phyiscal properties of a source, such as its temperature, chemical composition, or in case of a galaxy, the stellar population.\n",
    "\n",
    "$\\bullet$ measure how an object's light evolves with time (often called a lightcurve), which can be used to study transient events such as supernovea, stochastic processes such as accretion onto black holes as well as dynamical systems such as binary stars and exoplanets. The latter example is what you will be working on in your research project. \n",
    "\n",
    "#### Signal in astronomical images:\n",
    "\n",
    "Photometry is measured on images of the sky. Emission detected in such an image may come from:\n",
    "\n",
    "$\\bullet$ the source itself\n",
    "\n",
    "$\\bullet$ other sources in the field\n",
    "\n",
    "$\\bullet$ sky emission, generally uniform across the field\n",
    "\n",
    "$\\bullet$ scatter emission originating from within the instrument\n",
    "\n",
    "$\\bullet$ the bias: a signal added in charged coupled device (CCD) devices to avoid negative counts\n",
    "\n",
    "#### The signal is affected by:\n",
    "\n",
    "$\\bullet$ differences in transmission through the atmosphere, i.e., only a fraction of flux will arrive on the ground. This is dealt with by measuring the flux relative to a star in the field with known magnitude/flux. You will work on this in the DataReduction section. In your research case, you will be using space-based photometry.\n",
    "\n",
    "$\\bullet$ differences in transmission through the instrument that vary across the field. This is corrected for using so-called flat-fields. Flat fields are images taken of the sky at dawn, these are used to correct for the differences in transmission. You will see an example of this un the DataReduction section. \n",
    "\n",
    "#### Spatial resolution in astronomical imaging:\n",
    "\n",
    "Another important effect is that the image is effectively convoluted by the so-called point-spread function. This means that all point sources are detected as extended sources, here, we treat them as two-d gaussians:\n",
    "\n",
    "$ PSF(x, y) = \\frac{1}{\\sigma^2 \\sqrt{2\\pi}} exp\\left[ \\frac{(x-x_0)^2 + (y-y_0)^2}{2\\sigma^2}\\right] $\n",
    "\n",
    "where $x_0,y_0$ is the position and $\\sigma$ the standard devition. In astronomy, rather than the standard deviation, we often use the so-called full-width at half maximum which is:\n",
    "\n",
    "$ FWHM = 2 \\sqrt{ln 2}\\sigma \\approx 2.35\\sigma$.\n",
    "\n",
    "#### A side note on units:\n",
    "\n",
    "Astronomical images can have a range of different units, these can be counts/s. These are related through the gain, which turns counts or electrons per second into photons per second. However, when calculating errors, we are calculating Poisson noise, which is a counting noise error. This error needs to be calculated using the integrated number of photons in the exposure. In this notebook, we will be working with images in units of photons. \n",
    "\n",
    "#### Photometry and errors:\n",
    "\n",
    "To perform aperture photometry, we therefore need to isolate the source emission from other signal and correct for losses in transmission (the latter will be covered in the Data Reduction section).\n",
    "\n",
    "Additionally, we will need to calculate the error in our measurement. The main source of noise in astronomical data is Poisson or shot noise. The uncertainty $\\sigma$ in measuring $N$ photons  is:\n",
    "\n",
    "$ \\sigma = \\sqrt{N}$\n",
    "\n",
    "The number of expected photons scales linearly with time, i.e., by doubling the exposure time, we expected to recieve twice as many photons. Note here that the noise $\\sigma$ \\textit{increases} with N, however, the property we are interested in is the signal to noise SN, i.e.:\n",
    "\n",
    "$SN = \\frac{N}{\\sigma} = \\sqrt{N}$\n",
    "\n",
    "Therefore, since the expected number of photons N $\\propto$ exposure time t, the SN increases with the exposure time as \\sqrt{t}.\n",
    "\n",
    "Additionally, due to the fact that the CCD readout adds noise in each pixel, each pixel has an added noise called the read-out noise (RON). This is generally well known for each instrument.\n",
    "\n",
    "We will need to combine these errors later on, remember these equations for combining errors:\n",
    "\n",
    "$A = B + C ,\\ \\sigma_A = \\sqrt{\\sigma_B^2 + \\sigma_C^2}$\n",
    "\n",
    "$A = B * C \\ or A = \\frac{B}{C} ,\\  \\frac{\\sigma_A}{A} = \\sqrt{\\left(\\frac{\\sigma_B}{B}\\right)^2 + \\left(\\frac{\\sigma_C}{C}\\right)^2}$\n",
    "\n",
    "#### There are two general approaches to phomometry:\n",
    "\n",
    "$\\bullet$ Aperture photometry: is very commonly used in astronomy. It in involves integrating the flux from the sources within a (generally circular) aperture. This is the method we will be using here. We will need to consider the size and placement of the aperture and subtraction of background.\n",
    "\n",
    "$\\bullet$ PSF photometry: this involved fitting a model of the PSF to sources. It can be more accurate than aperture photometry, especially in extremely crowded fields where sources overlap. PSF photometry requires a detailed modelling of the PSF across the field. \n",
    "\n",
    "This is the summary of background information needed to complete this tutorial."
   ]
  },
  {
   "cell_type": "markdown",
   "metadata": {},
   "source": [
    "### Aperture photometry - step by step\n",
    "Below, you see a simulated image. The colour bar on the right indicates the counts per pixel. Can you locate the source?"
   ]
  },
  {
   "cell_type": "code",
   "execution_count": null,
   "metadata": {
    "scrolled": false
   },
   "outputs": [],
   "source": [
    "#The line below creates the tutorial image.\n",
    "myIma = ImageSimulator.tutorial_image()\n",
    "#You can plot the image like this\n",
    "myIma.show_ima()"
   ]
  },
  {
   "cell_type": "code",
   "execution_count": null,
   "metadata": {},
   "outputs": [],
   "source": [
    "#If you ever need, the data in the image can be accessed like this\n",
    "test_data = myIma.get_data()\n",
    "print (test_data)\n",
    "#This is a numpy array.\n"
   ]
  },
  {
   "cell_type": "code",
   "execution_count": null,
   "metadata": {},
   "outputs": [],
   "source": [
    "import pylab\n",
    "\n",
    "pylab.hist(test_data.ravel(),bins=np.arange(0,40,1))"
   ]
  },
  {
   "cell_type": "markdown",
   "metadata": {},
   "source": [
    "You can also plot slices through the image in either x or y as folllows.\n"
   ]
  },
  {
   "cell_type": "code",
   "execution_count": null,
   "metadata": {
    "scrolled": true
   },
   "outputs": [],
   "source": [
    "myIma.plot_x(20)"
   ]
  },
  {
   "cell_type": "code",
   "execution_count": null,
   "metadata": {},
   "outputs": [],
   "source": [
    "myIma.plot_y(22)"
   ]
  },
  {
   "cell_type": "markdown",
   "metadata": {},
   "source": [
    "### Your turn: Explore the image\n",
    "\n",
    "use the slice tool above to explore the image. Where is the source located? What else can you learn using the slice tool?"
   ]
  },
  {
   "cell_type": "code",
   "execution_count": null,
   "metadata": {
    "scrolled": false
   },
   "outputs": [],
   "source": [
    "for i in range(0,50):\n",
    "    myIma.plot_y(i)"
   ]
  },
  {
   "cell_type": "code",
   "execution_count": null,
   "metadata": {
    "scrolled": true
   },
   "outputs": [],
   "source": [
    "for i in range(0,50):\n",
    "    myIma.plot_x(i)\n",
    "    myIma.plot_x"
   ]
  },
  {
   "cell_type": "markdown",
   "metadata": {},
   "source": [
    "## Aperture Photometry - Defining the aperture"
   ]
  },
  {
   "cell_type": "markdown",
   "metadata": {},
   "source": [
    "Having identified the source visually and using the slice tool, we can now define a circular aperture, this is basically a circular mask that defines the area over which we will sum the flux from the source. We will use photutils.CircularAparture as follows:"
   ]
  },
  {
   "cell_type": "code",
   "execution_count": null,
   "metadata": {},
   "outputs": [],
   "source": [
    "#Defining an aperture:\n",
    "xpos = 20 #guess for x position\n",
    "ypos = 20 #guess for y position\n",
    "rad = 5 #aperture radius\n",
    "aperture1 = photutils.CircularAperture((xpos, ypos), rad)\n",
    "#Show the initial image again and overplot the aperture\n",
    "myIma.show_ima()\n",
    "aperture1.plot(ec='white')\n"
   ]
  },
  {
   "cell_type": "markdown",
   "metadata": {},
   "source": [
    "Try redefining the aperture to match the position."
   ]
  },
  {
   "cell_type": "markdown",
   "metadata": {},
   "source": [
    "### Aparture Photometry - Calculating fluxes"
   ]
  },
  {
   "cell_type": "markdown",
   "metadata": {},
   "source": [
    "Having defined the aperture, we can now perform the aperture photometry, the code below shows how we can calculate the flux in the aperture."
   ]
  },
  {
   "cell_type": "code",
   "execution_count": null,
   "metadata": {},
   "outputs": [],
   "source": [
    "#The code below shows how we use the function aperture photometry to apply aperture1 to the image myIma._realima\n",
    "phot = aperture_photometry(myIma.get_data(), aperture1)\n",
    "#the result is stored in phot, let's have a look\n",
    "print(phot)\n"
   ]
  },
  {
   "cell_type": "markdown",
   "metadata": {},
   "source": [
    "You can access the results as a dictionary, e.g.:"
   ]
  },
  {
   "cell_type": "code",
   "execution_count": null,
   "metadata": {
    "scrolled": true
   },
   "outputs": [],
   "source": [
    "phot['aperture_sum']"
   ]
  },
  {
   "cell_type": "code",
   "execution_count": null,
   "metadata": {},
   "outputs": [],
   "source": [
    "#We can access the area covered by the aperture as follows\n",
    "aperture1.area()"
   ]
  },
  {
   "cell_type": "markdown",
   "metadata": {},
   "source": [
    "### Your turn: make measurements all over the image. Do you notice anything?"
   ]
  },
  {
   "cell_type": "code",
   "execution_count": null,
   "metadata": {},
   "outputs": [],
   "source": [
    "#The code below shows how we use the function aperture photometry to apply aperture1 to the image myIma._realima\n",
    "phot = aperture_photometry(myIma.get_data(), photutils.CircularAperture((30, 12), 5))\n",
    "#the result is stored in phot, let's have a look\n",
    "print(phot)"
   ]
  },
  {
   "cell_type": "markdown",
   "metadata": {},
   "source": [
    "### Aparture Photometry - consider how to best choose the size of the aperture\n",
    "\n",
    "Try varying the aperture radius and replotting. You can also use the slice plotting you learned above to guide your choioce. What do you think is a good choice for aperture?"
   ]
  },
  {
   "cell_type": "code",
   "execution_count": null,
   "metadata": {},
   "outputs": [],
   "source": []
  },
  {
   "cell_type": "markdown",
   "metadata": {},
   "source": [
    "### Aparture Photometry - Estimating sky levels\n",
    "\n",
    "The main contamination to the signal will be sky emission. You might have noticed this already. We can estimate sky levels either by creating an annulus around the object or by estimating the sky in different areas of the image. Below, we show how you can use both using the code provided."
   ]
  },
  {
   "cell_type": "code",
   "execution_count": null,
   "metadata": {
    "scrolled": true
   },
   "outputs": [],
   "source": [
    "# defining a sky annulus at position 20, 20 with inner radius 4, outer radius 10\n",
    "ringsky = photutils.CircularAnnulus((20, 20), 5, 20)\n",
    "# \n",
    "sky_annulus = aperture_photometry(myIma.get_data(), ringsky)\n",
    "print (sky_annulus)\n",
    "print ('Sky area is :' + str(ringsky.area()))\n",
    "myIma.show_ima()\n",
    "ringsky.plot(ec='white')\n",
    "\n",
    "print (sky_annulus['aperture_sum']/ringsky.area())"
   ]
  },
  {
   "cell_type": "markdown",
   "metadata": {},
   "source": [
    "### Your turn: As with the aperture, consider different sizes for the sky ring."
   ]
  },
  {
   "cell_type": "code",
   "execution_count": null,
   "metadata": {},
   "outputs": [],
   "source": []
  },
  {
   "cell_type": "markdown",
   "metadata": {},
   "source": [
    "### Aparture photometry - different ways to measure sky\n",
    "\n",
    "Above, we have measured the sky using a ring around the source. We could also measure the sky in a circle. "
   ]
  },
  {
   "cell_type": "code",
   "execution_count": null,
   "metadata": {
    "scrolled": true
   },
   "outputs": [],
   "source": [
    "#Defining a sky area \n",
    "awaysky = photutils.CircularAperture((35, 32), 10)\n",
    "#\n",
    "sky_circle = aperture_photometry(myIma._realima, awaysky)\n",
    "print (sky_circle)\n",
    "print ('Sky area is :' + str(awaysky.area()))\n",
    "myIma.show_ima()\n",
    "awaysky.plot(ec='white')"
   ]
  },
  {
   "cell_type": "markdown",
   "metadata": {},
   "source": [
    "### Your turn: Try different sky positions and comment on how the sky should be placed."
   ]
  },
  {
   "cell_type": "code",
   "execution_count": null,
   "metadata": {
    "scrolled": false
   },
   "outputs": [],
   "source": [
    "#Defining a sky area \n",
    "awaysky = photutils.CircularAperture((30, 35), 6)\n",
    "#\n",
    "sky_circle = aperture_photometry(myIma._realima, awaysky)\n",
    "print (sky_circle)\n",
    "print ('Sky area is :' + str(awaysky.area()))\n",
    "myIma.show_ima()\n",
    "awaysky.plot(ec='white')\n",
    "\n",
    "print (sky_circle['aperture_sum']/awaysky.area())"
   ]
  },
  {
   "cell_type": "code",
   "execution_count": null,
   "metadata": {
    "scrolled": true
   },
   "outputs": [],
   "source": [
    "#Defining a sky area \n",
    "awaysky = photutils.CircularAperture((40, 40), 8)\n",
    "#\n",
    "sky_circle = aperture_photometry(myIma._realima, awaysky)\n",
    "print (sky_circle)\n",
    "print ('Sky area is :' + str(awaysky.area()))\n",
    "myIma.show_ima()\n",
    "awaysky.plot(ec='white')\n",
    "\n",
    "print (sky_circle['aperture_sum']/awaysky.area())"
   ]
  },
  {
   "cell_type": "markdown",
   "metadata": {},
   "source": [
    "### Your turn: Compare the two methods to measure sky levels."
   ]
  },
  {
   "cell_type": "markdown",
   "metadata": {},
   "source": [
    "Similar flux per unit area from both methods"
   ]
  },
  {
   "cell_type": "markdown",
   "metadata": {},
   "source": [
    "### Your turn: Aparture Photometry - Write a function to calculate the flux of a star given the results of the measurements made\n",
    "\n",
    "You have now measured the flux in the aperture and sky aperture. Write a function to caculate the object flux."
   ]
  },
  {
   "cell_type": "markdown",
   "metadata": {},
   "source": [
    "### Your turn: Aparture Photometry - Write a function to calculate the error \n"
   ]
  },
  {
   "cell_type": "code",
   "execution_count": null,
   "metadata": {
    "scrolled": true
   },
   "outputs": [],
   "source": [
    "def annulus_flux(x, y , r_star, r_annulus):\n",
    "\n",
    "    aperture = photutils.CircularAperture((x, y), r_star)\n",
    "    annulus = photutils.CircularAnnulus((x, y), r_star, r_annulus)\n",
    "    \n",
    "    flux, error = calc_flux(aperture, annulus)\n",
    "    \n",
    "    print (\"Flux is \",flux, \"+/-\", error )\n",
    "    myIma.show_ima()\n",
    "    annulus.plot(ec='white')\n",
    "\n",
    "def calc_flux(aperture, annulus): \n",
    "\n",
    "    annulus_flux = aperture_photometry(myIma.get_data(), annulus)['aperture_sum']\n",
    "    noise_per_area = annulus_flux/annulus.area()\n",
    "    aperture_flux = aperture_photometry(myIma.get_data(), aperture)['aperture_sum']\n",
    "    flux_from_star = aperture_flux - noise_per_area*aperture.area()\n",
    "    \n",
    "    error = calc_error(aperture_flux,aperture.area(),annulus_flux,annulus.area())\n",
    "\n",
    "    return float(flux_from_star), float(error)\n",
    "\n",
    "def calc_error (inner_flux, inner_area, outer_flux, outer_area):\n",
    "    error_inner = inner_flux\n",
    "    error_outer = inner_area*((np.sqrt(outer_flux))/np.sqrt(outer_area))**2\n",
    "    error_combined = np.sqrt(error_inner+error_outer)\n",
    "    \n",
    "    return error_combined"
   ]
  },
  {
   "cell_type": "code",
   "execution_count": null,
   "metadata": {
    "scrolled": true
   },
   "outputs": [],
   "source": [
    "annulus_flux(20, 20, 5, 20)"
   ]
  },
  {
   "cell_type": "markdown",
   "metadata": {},
   "source": [
    "### Aparture photometry: Practice\n",
    "Below, you can find instructions how to create random images that you can use to test your aperture photometry functions. We will start with a high-SN image with a single star in the field. You can create a random image as follows."
   ]
  },
  {
   "cell_type": "code",
   "execution_count": null,
   "metadata": {
    "scrolled": true
   },
   "outputs": [],
   "source": [
    "test_me = ImageSimulator.centred_psf_highSN()\n"
   ]
  },
  {
   "cell_type": "code",
   "execution_count": null,
   "metadata": {},
   "outputs": [],
   "source": [
    "annulus_flux(20, 20, 5, 20)"
   ]
  },
  {
   "cell_type": "markdown",
   "metadata": {},
   "source": [
    "Everytime you rerun the cell above, a different test image is created. You can access the data and show the image as you did before in the tutorial image. This time, you can give a guess for the source position and flux, and the function will then tell you if your estimate is correct. You can plot the x and y slices as was done before.\n",
    "\n",
    "Here, I am guessing that the source is in the middle of the image, that the source flux is 700, the measurement error in the flux is 50 and the position error is 2."
   ]
  },
  {
   "cell_type": "code",
   "execution_count": null,
   "metadata": {
    "scrolled": true
   },
   "outputs": [],
   "source": [
    "test_me.guess_psf(x=25,y=25,flux=700, error=50, poserr=2)"
   ]
  },
  {
   "cell_type": "markdown",
   "metadata": {},
   "source": [
    "If you are lost, you can get the description of your random image as follows:"
   ]
  },
  {
   "cell_type": "code",
   "execution_count": null,
   "metadata": {},
   "outputs": [],
   "source": [
    "test_me.explain_practiceima()"
   ]
  },
  {
   "cell_type": "markdown",
   "metadata": {},
   "source": [
    "## Aparture Photometry - Advanced practice - noisy Images\n",
    "\n",
    "If you have gotten a good hold of the practice set above, you can try these advanced examples. The first one gives a noisier version of the one above. The guesses and solutions work as above."
   ]
  },
  {
   "cell_type": "code",
   "execution_count": null,
   "metadata": {},
   "outputs": [],
   "source": [
    "test_lowSN = ImageSimulator.centred_psf_lowSN()"
   ]
  },
  {
   "cell_type": "code",
   "execution_count": null,
   "metadata": {},
   "outputs": [],
   "source": []
  },
  {
   "cell_type": "markdown",
   "metadata": {},
   "source": [
    "## Aparture Photometry - Advanced practice - Crowded Fields\n",
    "\n",
    "The next example is more challenging, this is a good chance to make use of plotting to identify where the sources are."
   ]
  },
  {
   "cell_type": "code",
   "execution_count": null,
   "metadata": {},
   "outputs": [],
   "source": [
    "test_crowded = ImageSimulator.crowded_field()"
   ]
  },
  {
   "cell_type": "markdown",
   "metadata": {},
   "source": [
    "If you get stuck, you can show the number of objects in the field as follows:"
   ]
  },
  {
   "cell_type": "code",
   "execution_count": null,
   "metadata": {},
   "outputs": [],
   "source": [
    "test_crowded.show_objectnumber()"
   ]
  },
  {
   "cell_type": "markdown",
   "metadata": {},
   "source": [
    "You can also reveal the positions."
   ]
  },
  {
   "cell_type": "code",
   "execution_count": null,
   "metadata": {},
   "outputs": [],
   "source": [
    "test_crowded.show_positions()"
   ]
  },
  {
   "cell_type": "code",
   "execution_count": null,
   "metadata": {},
   "outputs": [],
   "source": []
  },
  {
   "cell_type": "markdown",
   "metadata": {},
   "source": [
    "## Summary:\n",
    "\n",
    "After completing this notebook, you should have:\n",
    "\n",
    "- written and tested functions for aperture photometry and error estimation. These functions will be used in the next notebook and will need to be included in the final report. Save them in a .py file.\n"
   ]
  }
 ],
 "metadata": {
  "kernelspec": {
   "display_name": "Python 3",
   "language": "python",
   "name": "python3"
  },
  "language_info": {
   "codemirror_mode": {
    "name": "ipython",
    "version": 3
   },
   "file_extension": ".py",
   "mimetype": "text/x-python",
   "name": "python",
   "nbconvert_exporter": "python",
   "pygments_lexer": "ipython3",
   "version": "3.7.4"
  }
 },
 "nbformat": 4,
 "nbformat_minor": 2
}
